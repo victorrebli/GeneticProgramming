{
 "cells": [
  {
   "cell_type": "code",
   "execution_count": 1,
   "metadata": {},
   "outputs": [],
   "source": [
    "from __future__ import print_function\n",
    "import operator\n",
    "import numpy as np\n",
    "from graphviz import Digraph\n",
    "from queue import Queue\n",
    "import copy"
   ]
  },
  {
   "cell_type": "code",
   "execution_count": 2,
   "metadata": {},
   "outputs": [],
   "source": [
    "import os\n",
    "os.environ[\"PATH\"] += os.pathsep + 'D:/Graphviz2.38/bin'"
   ]
  },
  {
   "cell_type": "code",
   "execution_count": 4,
   "metadata": {},
   "outputs": [],
   "source": [
    "class Tree_expression:\n",
    "    \"\"\"\n",
    "    A recursive implementation of Binary Tree\n",
    "    Using links and Nodes approach.\n",
    "    Modified to allow for trees to be constructed from other trees rather than always creating\n",
    "    a new tree in the insertLeft or insertRight\n",
    "    \"\"\"\n",
    "    \n",
    "    def __init__(self,rootObj,label, index, parent=None):\n",
    "        self.key = rootObj\n",
    "        self.leftChild = None\n",
    "        self.rightChild = None\n",
    "        self.parent = parent\n",
    "        self.label = label\n",
    "        self.index = index\n",
    "        \n",
    "    def insertLeft(self, newNode, label, itera, parent=None):\n",
    "\n",
    "        if isinstance(newNode, Tree_expression):\n",
    "            t = newNode\n",
    "        else:\n",
    "            t = Tree_expression(newNode, label, itera, parent)\n",
    "\n",
    "        if self.leftChild is not None:\n",
    "            t.left = self.leftChild\n",
    "\n",
    "        self.leftChild = t\n",
    "\n",
    "    def insertRight(self,newNode, label, itera, parent=None):\n",
    "        if isinstance(newNode,Tree_expression):\n",
    "            t = newNode\n",
    "        else:\n",
    "            t = Tree_expression(newNode, label, itera, parent)\n",
    "\n",
    "        if self.rightChild is not None:\n",
    "            t.right = self.rightChild\n",
    "        self.rightChild = t\n",
    "\n",
    "    def isLeaf(self):\n",
    "        return ((not self.leftChild) and (not self.rightChild))\n",
    "\n",
    "    def getRightChild(self):\n",
    "        return self.rightChild\n",
    "\n",
    "    def getLeftChild(self):\n",
    "        return self.leftChild\n",
    "    \n",
    "    def getLabel(self):\n",
    "        return self.label\n",
    "    \n",
    "    def getIndex(self):\n",
    "        return self.index\n",
    "\n",
    "    def setRootVal(self,obj):\n",
    "        self.key = obj\n",
    "\n",
    "    def getRootVal(self):\n",
    "        return self.key\n",
    "\n",
    "    def inorder(self):\n",
    "        if self.leftChild:\n",
    "            self.leftChild.inorder()\n",
    "        print(self.key)\n",
    "        if self.rightChild:\n",
    "            self.rightChild.inorder()\n",
    "\n",
    "    def postorder(self):\n",
    "        if self.leftChild:\n",
    "            self.leftChild.postorder()\n",
    "        if self.rightChild:\n",
    "            self.rightChild.postorder()\n",
    "        print(self.key)\n",
    "\n",
    "\n",
    "    def preorder(self):\n",
    "        print(self.key)\n",
    "        if self.leftChild:\n",
    "            self.leftChild.preorder()\n",
    "        if self.rightChild:\n",
    "            self.rightChild.preorder()                \n",
    "                \n",
    "    def printexp(self):\n",
    "        #breakpoint()\n",
    "        if self.leftChild:\n",
    "            #if self.leftChild.getRootVal() in ('cos', 'sen', 'tan', 'log'):\n",
    "            if self.getRootVal() in ('cos', 'sen', 'tan', 'log'):\n",
    "               print(self.key, end=' ')\n",
    "               print('(', end=' ')\n",
    "               self.leftChild.printexp()\n",
    "            else:\n",
    "               print('(', end=' ')\n",
    "               self.leftChild.printexp()\n",
    "        if self.getRootVal() not in ('cos', 'sen', 'tan', 'log'):        \n",
    "            print(self.key, end=' ')\n",
    "        if self.rightChild:\n",
    "            self.rightChild.printexp()\n",
    "            print(')', end=' ')\n",
    "    \n",
    "    def postordereval(self):\n",
    "        opers = {'+':operator.add, '-':operator.sub, '*':operator.mul, '/':operator.truediv}\n",
    "        res1 = None\n",
    "        res2 = None\n",
    "        if self.leftChild:\n",
    "            res1 = self.leftChild.postordereval()  \n",
    "        if self.rightChild:\n",
    "            res2 = self.rightChild.postordereval() \n",
    "        if res1 and res2:\n",
    "            return opers[self.key](res1,res2) \n",
    "        else:\n",
    "            return self.key"
   ]
  },
  {
   "cell_type": "code",
   "execution_count": 5,
   "metadata": {},
   "outputs": [],
   "source": [
    "class ParseTree(object):\n",
    "    \n",
    "    def __init__(self):\n",
    "        self.graph = Digraph('G', filename='process1.gv',  node_attr={'shape': 'circle', 'height': '.1'})\n",
    "        self.list_opera = []\n",
    "        \n",
    "    def buildParseTree(self, fpexp):\n",
    "        fplist = fpexp.split()\n",
    "        pStack = []\n",
    "        itera = 0\n",
    "        eTree = Tree_expression('','name' + str(itera), itera, None)\n",
    "        itera +=1\n",
    "        pStack.append(eTree)\n",
    "        currentTree = eTree\n",
    "        \n",
    "        for idx,i in enumerate(fplist):\n",
    "            if i == '(':\n",
    "                \n",
    "                currentTree.insertLeft('', 'name' + str(itera), itera, currentTree)\n",
    "                itera +=1\n",
    "                pStack.append(currentTree)\n",
    "                currentTree = currentTree.getLeftChild()\n",
    "            elif i in ['cos', 'sen', 'tan', 'log']:\n",
    "                \n",
    "                currentTree.setRootVal(i)\n",
    "                \n",
    "            elif i not in ['+', '-', '*', '/', ')']:\n",
    "                if 'var_' in i:\n",
    "                    currentTree.setRootVal(i)\n",
    "                    parent = pStack.pop()\n",
    "                    currentTree = parent\n",
    "                else:\n",
    "                    currentTree.setRootVal(int(i))\n",
    "                    parent = pStack.pop()\n",
    "                    currentTree = parent\n",
    "            elif i in ['+', '-', '*', '/']:\n",
    "                currentTree.setRootVal(i)\n",
    "                currentTree.insertRight('','name' + str(itera), itera, currentTree)\n",
    "                itera +=1\n",
    "                pStack.append(currentTree)\n",
    "                currentTree = currentTree.getRightChild()\n",
    "            elif i == ')':\n",
    "                currentTree = pStack.pop()\n",
    "            else:\n",
    "                raise ValueError\n",
    "              \n",
    "        if eTree.getRootVal() != '':\n",
    "            return eTree\n",
    "        else:\n",
    "            eTree = eTree.leftChild\n",
    "            eTree.parent = None\n",
    "            eTree.index = 0\n",
    "            eTree.label = 'name0'\n",
    "            return eTree\n",
    "\n",
    "    def height(self, tree):\n",
    "         if tree == None:\n",
    "            return -1\n",
    "         else:\n",
    "            return 1 + max(self.height(tree.leftChild),self.height(tree.rightChild))\n",
    "\n",
    "    def evaluate(self, parseTree):\n",
    "          opers = {'+':operator.add, '-':operator.sub, '*':operator.mul, '/':operator.truediv, \n",
    "                   'cos': np.cos, 'sen': np.sin, 'tan': np.tan, 'log': np.log}\n",
    "    \n",
    "          leftC = parseTree.getLeftChild()\n",
    "          rightC = parseTree.getRightChild()\n",
    "          if leftC and rightC: \n",
    "              fn = opers[parseTree.getRootVal()]\n",
    "              return fn(self.evaluate(leftC),self.evaluate(rightC))\n",
    "             \n",
    "          else:\n",
    "              if parseTree.getRootVal() in ['cos', 'sen', 'tan', 'log']:\n",
    "                 fn = opers[parseTree.getRootVal()]\n",
    "                 return fn(self.evaluate(leftC))\n",
    "              else: \n",
    "                 return parseTree.getRootVal()   \n",
    "       \n",
    "    def print_tree(self, parseTree):\n",
    "        self.list_opera = []\n",
    "        self._print_tree(parseTree)\n",
    "\n",
    "    def _print_tree(self, parseTree):\n",
    "        \n",
    "        if parseTree.getLabel() not in self.list_opera:\n",
    "                self.list_opera.append(parseTree.getLabel())\n",
    "                \n",
    "        if parseTree.leftChild and parseTree.rightChild:\n",
    "            self.list_opera.append(parseTree.leftChild.getLabel())\n",
    "            self.list_opera.append(parseTree.rightChild.getLabel())\n",
    "            \n",
    "            self.graph.node(parseTree.getLabel(), label=str(parseTree.getRootVal()))\n",
    "            self.graph.node(parseTree.leftChild.getLabel(), label=str(parseTree.leftChild.getRootVal()))\n",
    "            self.graph.node(parseTree.rightChild.getLabel(), label=str(parseTree.rightChild.getRootVal()))\n",
    "            \n",
    "            self.graph.edge(str(parseTree.getLabel()), str(parseTree.leftChild.getLabel()))\n",
    "            self.graph.edge(str(parseTree.getLabel()), str(parseTree.rightChild.getLabel()))\n",
    "            self._print_tree(parseTree.leftChild)\n",
    "            self._print_tree(parseTree.rightChild)\n",
    "            #print('quarto')\n",
    "        elif parseTree.leftChild:\n",
    "            \n",
    "            self.list_opera.append(parseTree.leftChild.getLabel())\n",
    "            self.graph.node(parseTree.getLabel(), label=str(parseTree.getRootVal()))\n",
    "            self.graph.node(parseTree.leftChild.getLabel(), label=str(parseTree.leftChild.getRootVal()))\n",
    "            self.graph.edge(str(parseTree.getLabel()), str(parseTree.leftChild.getLabel()))\n",
    "            self._print_tree(parseTree.leftChild)\n",
    "            \n",
    "        else:\n",
    "            pass\n",
    "            \n",
    "    def call_print_index(self, parseTree):\n",
    "        \n",
    "        self.lista_opera_index = list()\n",
    "        self.print_index_list(parseTree)\n",
    "        \n",
    "    \n",
    "    def print_index_list(self, parseTree):\n",
    "    \n",
    "        if parseTree.getIndex() not in self.lista_opera_index:\n",
    "                self.lista_opera_index.append(parseTree.getIndex())\n",
    "            \n",
    "        if parseTree.leftChild and parseTree.rightChild:\n",
    "                    try:\n",
    "                        if parseTree.leftChild.getIndex() not in self.lista_opera_index:\n",
    "                            self.lista_opera_index.append(parseTree.leftChild.getIndex())\n",
    "                    except:\n",
    "                        pass\n",
    "                    try:\n",
    "                        if parseTree.rightChild.getIndex() not in self.lista_opera_index:    \n",
    "                            self.lista_opera_index.append(parseTree.rightChild.getIndex())\n",
    "                    except:\n",
    "                        pass\n",
    "                    \n",
    "                    self.print_index_list(parseTree.leftChild)\n",
    "                    self.print_index_list(parseTree.rightChild)\n",
    "        elif parseTree.leftChild:\n",
    "                    try:\n",
    "                        \n",
    "                        if parseTree.rightChild.getIndex() not in self.lista_opera_index:   \n",
    "                            self.lista_opera_index.append(parseTree.leftChild.getIndex())\n",
    "                    except:\n",
    "                        pass\n",
    "                    self.print_index_list(parseTree.leftChild)\n",
    "            \n",
    "        else:\n",
    "                    pass\n",
    "                    \n",
    "    \n",
    "    def print_tree_index(self, parseTree):\n",
    "        self.list_opera = []\n",
    "        self._print_tree_index(parseTree)\n",
    "        \n",
    "        \n",
    "    def _print_tree_index(self, parseTree):\n",
    "        \n",
    "        if parseTree.getLabel() not in self.list_opera:\n",
    "                self.list_opera.append(parseTree.getLabel())\n",
    "            \n",
    "        \n",
    "        if parseTree.leftChild and parseTree.rightChild:\n",
    "        \n",
    "            self.list_opera.append(parseTree.leftChild.getLabel())\n",
    "            self.list_opera.append(parseTree.rightChild.getLabel())\n",
    "            self.graph.node(parseTree.getLabel(), label=str(parseTree.getIndex()))\n",
    "            self.graph.node(parseTree.leftChild.getLabel(), label=str(parseTree.leftChild.getIndex()))\n",
    "            self.graph.node(parseTree.rightChild.getLabel(), label=str(parseTree.rightChild.getIndex()))\n",
    "            \n",
    "            self.graph.edge(str(parseTree.getLabel()), str(parseTree.leftChild.getLabel()))\n",
    "            self.graph.edge(str(parseTree.getLabel()), str(parseTree.rightChild.getLabel()))\n",
    "            self._print_tree_index(parseTree.leftChild)\n",
    "            self._print_tree_index(parseTree.rightChild)\n",
    "            \n",
    "        elif parseTree.leftChild:\n",
    "            \n",
    "        \n",
    "            self.list_opera.append(parseTree.leftChild.getLabel())\n",
    "            self.graph.node(parseTree.getLabel(), label=str(parseTree.getIndex()))\n",
    "            self.graph.node(parseTree.leftChild.getLabel(), label=str(parseTree.leftChild.getIndex()))\n",
    "            self.graph.edge(str(parseTree.getLabel()), str(parseTree.leftChild.getLabel()))\n",
    "            self._print_tree_index(parseTree.leftChild)\n",
    "            \n",
    "        else:\n",
    "            pass"
   ]
  },
  {
   "cell_type": "code",
   "execution_count": 11,
   "metadata": {},
   "outputs": [],
   "source": [
    "pt_2 = ParseTree()\n",
    "parseTree_2 = pt_2.buildParseTree(\" ( ( 2 - ( var_10 / var_11 ) ) + ( 7 * cos (  sen ( ( var_10 + var_11 ) ) ) ) ) \")\n",
    "\n",
    "#parseTree_2 = pt_2.buildParseTree(\" ( ( 7 * cos (  sen ( ( var_10 + var_11 ) ) ) ) ) \")\n",
    "#pt_2.print_tree(parseTree_2)\n",
    "pt_2.print_tree(parseTree_2)\n",
    "pt_2.graph.view()\n",
    "pt_2.graph.clear()\n",
    "#parseTree_2.printexp()"
   ]
  },
  {
   "cell_type": "code",
   "execution_count": 12,
   "metadata": {},
   "outputs": [
    {
     "name": "stdout",
     "output_type": "stream",
     "text": [
      "( ( 2 - ( var_10 / var_11 ) ) + ( 7 * cos ( sen ( ( var_10 + var_11 ) ) ) "
     ]
    }
   ],
   "source": [
    "parseTree_2.printexp()"
   ]
  },
  {
   "cell_type": "code",
   "execution_count": 13,
   "metadata": {},
   "outputs": [],
   "source": [
    "def call_pars_index(parseTree,search_index):\n",
    "    return search_index_parsetree(parseTree,search_index)\n",
    "\n",
    "\n",
    "def search_index_parsetree(parseTree, search_index):\n",
    "    q = Queue()  \n",
    "    q.put(parseTree)  \n",
    "    while (q.empty() == False): \n",
    "\n",
    "        node = q.queue[0]  \n",
    "        if (node.index == search_index):\n",
    "            node.parent = None\n",
    "            return node\n",
    "\n",
    "        q.get() \n",
    "        if (node.leftChild != None): \n",
    "            q.put(node.leftChild)  \n",
    "        if (node.rightChild != None): \n",
    "            q.put(node.rightChild)\n",
    "\n",
    "    return False \n",
    "\n",
    "\n",
    "def call_pars_index_mutation(parseTree_O, parseTree_M, search_index):\n",
    "\n",
    "    q = Queue()  \n",
    "    q.put(parseTree_O)\n",
    "    pStack = list()\n",
    "\n",
    "    indexes = list()\n",
    "    while (q.empty() == False): \n",
    "\n",
    "        node = q.queue[0]\n",
    "        if (node.index == search_index):\n",
    "            node = parseTree_M\n",
    "            pStack.append(node)\n",
    "            return pStack\n",
    "        q.get()\n",
    "        if (node.leftChild != None):\n",
    "            if node.leftChild.index == search_index:\n",
    "                node.leftChild = parseTree_M\n",
    "                pStack.append(node)\n",
    "                return pStack\n",
    "\n",
    "            q.put(node.leftChild)  \n",
    "        if (node.rightChild != None): \n",
    "            if node.rightChild.index == search_index:\n",
    "                node.rightChild = parseTree_M\n",
    "                pStack.append(node)\n",
    "                return pStack\n",
    "            q.put(node.rightChild)\n",
    "    return False\n",
    "\n",
    "def rever_tree(dc, flag = 1):\n",
    "    dc_t = True\n",
    "    interm = dc[0].parent\n",
    "    if flag == 1:\n",
    "        if interm and (dc[0].leftChild or dc[0].rightChild):\n",
    "            #print('ENTROU')\n",
    "            while dc_t:\n",
    "                if interm.parent:\n",
    "                   interm = interm.parent\n",
    "                else:\n",
    "                   dc_t = False\n",
    "            return interm    \n",
    "        else:\n",
    "            return dc[0]\n",
    "    \n",
    "    else:\n",
    "        if interm:\n",
    "            while dc_t:\n",
    "                if interm.parent:\n",
    "                   interm = interm.parent\n",
    "                else:\n",
    "                   dc_t = False\n",
    "            return interm    \n",
    "        else:\n",
    "            return dc[0]\n",
    "        \n",
    "def refactory_index(parseTree, iteri):\n",
    "    q = Queue()  \n",
    "    q.put(parseTree)\n",
    "    pstack = []\n",
    "    parent = None\n",
    "    while (q.empty() == False): \n",
    "\n",
    "        node = q.queue[0] \n",
    "        node.index = iteri\n",
    "        node.label = 'name' + str(iteri)\n",
    "        iteri += 1\n",
    "        q.get() \n",
    "        if (node.leftChild != None):\n",
    "            node.leftChild.parent = node\n",
    "            q.put(node.leftChild)  \n",
    "        if (node.rightChild != None): \n",
    "            q.put(node.rightChild)\n",
    "            node.rightChild.parent = node\n",
    "    pstack.append(node)\n",
    "    return pstack \n",
    "\n",
    "def search_index(particles):\n",
    "    roll_part = {}\n",
    "    for key in particles.keys():\n",
    "        pt, parsetree = particles[key] \n",
    "        pt.call_print_index(parsetree)\n",
    "        roll_part[key] = np.random.choice(pt.lista_opera_index, 1)[0]\n",
    "    return roll_part\n",
    "\n",
    "def parses_trees(list_particles, lista):\n",
    "    parses = {}\n",
    "    for key in list_particles.keys():\n",
    "        \n",
    "       print(f'{key}') \n",
    "       _, parsetree = list_particles[key]\n",
    "       parse = call_pars_index(parsetree,lista[key])\n",
    "       parses[key] = parse\n",
    "    return parses    "
   ]
  },
  {
   "cell_type": "code",
   "execution_count": 14,
   "metadata": {},
   "outputs": [],
   "source": [
    "def choose_operations(lista, qtd = None, qtd_sub = 5, level = 0):\n",
    "    prof = list()\n",
    "    if level == 0: \n",
    "        if qtd == None:\n",
    "            qtd = np.random.choice(np.arange(0,10),1) \n",
    "        \n",
    "        cho = np.random.choice(lista, qtd)\n",
    "     \n",
    "        for ind in list(cho):\n",
    "             n = np.random.choice(np.arange(0,qtd_sub),1)  \n",
    "             prof.append((ind,np.random.choice(lista, n)))\n",
    "    else:\n",
    "        \n",
    "        cho = np.random.choice(lista, 1)\n",
    "        return cho\n",
    "    return prof\n",
    "\n",
    "def create_exp(exp):\n",
    "    opers = {'sum':'+','sub':'-', 'mult':'*', 'div':'/', \n",
    "              'log': 'log', 'sen': 'sen', 'cos': 'cos',\n",
    "             'tan': 'tan'}\n",
    "    \n",
    "    lista_app = list()\n",
    "    for idx, expr in enumerate(exp):\n",
    "        if expr in ['sum', 'sub', 'mult', 'div']:\n",
    "            lista_app.append({1: '( ' + choose_features() + ' ' + opers[expr] + ' ' + choose_features() + ' )'})\n",
    "            \n",
    "        else:\n",
    "            lista_app.append({2:opers[expr]})\n",
    "    return lista_app\n",
    "\n",
    "\n",
    "def choose_features():\n",
    "    lista = ['var_1', 'var_2', 'var_3', 'var_4', 'var_5', 'var_6', 'var_7']\n",
    "    lista1 = np.arange(0,20)\n",
    "    num = np.random.choice(lista1,1)\n",
    "    qtd = np.random.choice(lista,1)\n",
    "    return np.random.choice([num[0],qtd[0]],1)[0]\n",
    "    \n",
    "def buildParseTree_tree(lista):\n",
    "    \n",
    "    tam = len(lista)\n",
    "    flag = 0\n",
    "    expre = '('\n",
    "    for idx in np.arange(0, tam - 1):\n",
    "        \n",
    "        if (list(lista[idx].keys())[0] == 1):\n",
    "            if (list(lista[idx+1].keys())[0] == 1):\n",
    "                expre = expre + ' ' + '(' + ' ' + lista[idx][1] + ' ' + '+'\n",
    "                flag += 1\n",
    "            elif (list(lista[idx+1].keys())[0] != 1):\n",
    "                expre = expre + ' ' + lista[idx][1] + ' '\n",
    "            \n",
    "                for i in np.arange(0,flag):\n",
    "                    flag -= 1\n",
    "                    expre = expre + ')' + ' '\n",
    "                expre = expre + '+'   \\\n",
    "                \n",
    "        elif (list(lista[idx].keys())[0] == 2):\n",
    "                 \n",
    "            if (list(lista[idx+1].keys())[0] == 2):\n",
    "                  flag += 1\n",
    "                  expre = expre + ' ' + lista[idx][2] + ' ' + '(' \n",
    "                \n",
    "            elif (list(lista[idx+1].keys())[0] != 2):\n",
    "                  expre = expre + ' ' + lista[idx][2] + ' ' + '(' + ' ' + '(' + ' ' + choose_features() + ' ' + '-' + ' ' + choose_features() + ' ' \\\n",
    "                  + ')' + ' ' + ')' + ' '\n",
    "                  for i in np.arange(0,flag):\n",
    "                     flag -= 1\n",
    "                     expre = expre + ')' + ' ' \n",
    "                  expre = expre + '+'\n",
    "                        \n",
    "    if (list(lista[tam-1].keys())[0] == 1):\n",
    "        if (list(lista[tam-2].keys())[0] == 2):\n",
    "            expre = expre + ' ' + lista[tam-1][1] + ' '\n",
    "            for i in np.arange(0,flag):\n",
    "                expre = expre + ')' + ' '\n",
    "        else:\n",
    "            expre = expre + ' ' + lista[tam-1][1] + ' '\n",
    "            for i in np.arange(0,flag):\n",
    "                expre = expre + ')' + ' '\n",
    "    \n",
    "    elif (list(lista[tam-1].keys())[0] == 2):\n",
    "        if (list(lista[tam-2].keys())[0] == 2):\n",
    "           expre = expre + ' ' + lista[tam-1][2] + ' ' + '(' + ' ' + '(' + ' ' + choose_features() + ' ' + '-' + ' ' + choose_features() + ' ' + ')' + ' ' + ')' + ' '\n",
    "           for i in np.arange(0,flag):\n",
    "                expre = expre + ')' + ' ' \n",
    "        elif (list(lista[tam-2].keys())[0] != 2):\n",
    "            \n",
    "            expre = expre + ' ' + lista[tam-1][2] + ' ' + '(' + ' ' + '(' + ' ' + choose_features() + ' ' + '-' + ' ' + choose_features() + ' ' + ')' + ' ' + ')' + ' '\n",
    "            for i in np.arange(0,flag):\n",
    "                expre = expre + ')' + ' ' \n",
    "    expre = expre + ')'\n",
    "    return expre\n",
    "        "
   ]
  },
  {
   "cell_type": "code",
   "execution_count": 26,
   "metadata": {},
   "outputs": [],
   "source": [
    "lista = ['sum','sub','mult','div','log', 'tan', 'sen', 'cos']\n",
    "cho = choose_operations(lista, qtd = 10, qtd_sub = 10)"
   ]
  },
  {
   "cell_type": "code",
   "execution_count": 27,
   "metadata": {},
   "outputs": [
    {
     "name": "stdout",
     "output_type": "stream",
     "text": [
      "( ( ( 7 + var_4 ) + ( ( 19 * 6 ) + ( ( 1 + var_1 ) + ( ( var_2 + 12 ) + ( var_3 - var_7 ) ) ) ) ) + log ( tan ( cos ( cos ( tan ( ( 12 - 19 ) ) ) ) ) ) )\n",
      "( ( ( 6 * 10 ) + ( ( 13 / 13 ) + ( var_7 - var_4 ) ) ) + log ( tan ( log ( cos ( ( 4 - 4 ) ) ) ) ) )\n",
      "( ( ( var_7 - 6 ) + ( var_5 - var_3 ) ) + cos ( ( var_6 - 15 ) ) )\n",
      "( ( ( 15 * 14 ) + ( ( var_7 - 10 ) + ( ( var_7 * var_3 ) + ( ( 15 - 9 ) + ( var_4 / var_2 ) ) ) ) ) + sen ( sen ( log ( log ( ( var_1 - 0 ) ) ) ) ) )\n",
      "( log ( tan ( log ( log ( ( 18 - var_3 ) ) ) ) ) )\n",
      "( ( var_6 / var_5 ) + cos ( ( var_5 - var_6 ) ) )\n",
      "( ( 4 + var_4 ) + sen ( ( var_6 - 17 ) ) )\n",
      "( ( ( var_4 + var_2 ) + ( ( var_4 - var_6 ) + ( ( 1 + var_7 ) + ( ( 18 * 2 ) + ( 4 - var_5 ) ) ) ) ) + sen ( log ( ( var_1 - 19 ) ) ) )\n",
      "( ( ( var_2 * var_5 ) + ( ( var_5 * 6 ) + ( var_1 - 11 ) ) ) + cos ( tan ( cos ( ( var_6 - 16 ) ) ) ) )\n",
      "( ( ( 18 + var_4 ) + ( ( 12 / var_6 ) + ( 2 + var_1 ) ) ) + tan ( cos ( tan ( ( 10 - 4 ) ) ) ) )\n"
     ]
    }
   ],
   "source": [
    "list_dc = []\n",
    "for ope in cho:\n",
    "    lista = list()\n",
    "    lista.append(ope[0])\n",
    "    [lista.append(var) for var in ope[1]]\n",
    "    dc = create_exp(lista)\n",
    "    #print(dc)\n",
    "    dc1 = list()\n",
    "    dc2 = list()\n",
    "    [dc1.append(var) if list(var.keys())[0] == 1 else dc2.append(var) for var in dc]\n",
    "    dc = dc1 + dc2\n",
    "    #print(dc)\n",
    "    dc = buildParseTree_tree(dc)\n",
    "    print(dc)\n",
    "    pt_1 = ParseTree()\n",
    "    parseTree_1 = pt_1.buildParseTree(dc)\n",
    "    list_dc.append((copy.deepcopy(pt_1),copy.deepcopy(parseTree_1)))"
   ]
  },
  {
   "cell_type": "code",
   "execution_count": 28,
   "metadata": {},
   "outputs": [],
   "source": [
    "tree = 0\n",
    "list_dc[tree][0].print_tree(list_dc[tree][1])\n",
    "list_dc[tree][0].graph.view()\n",
    "list_dc[tree][0].graph.clear()"
   ]
  },
  {
   "cell_type": "code",
   "execution_count": 51,
   "metadata": {},
   "outputs": [
    {
     "name": "stdout",
     "output_type": "stream",
     "text": [
      "log ( tan ( log ( log ( ( 18 - var_3 ) "
     ]
    }
   ],
   "source": [
    "tree = 4\n",
    "list_dc[tree][1].printexp()"
   ]
  },
  {
   "cell_type": "markdown",
   "metadata": {},
   "source": [
    "### Codigo abaixo de teste"
   ]
  },
  {
   "cell_type": "code",
   "execution_count": 8,
   "metadata": {},
   "outputs": [],
   "source": [
    "#pt_1 = ParseTree()\n",
    "#parseTree_1 = pt_1.buildParseTree(\"( ( 10 + 5 ) * 3 )\")\n",
    "#pt_1.print_tree_1(parseTree_1)\n",
    "#pt_1.graph.view()\n",
    "#pt_1.graph.clear()\n",
    "##########################################\n",
    "pt_2 = ParseTree()\n",
    "parseTree_2 = pt_2.buildParseTree(\" ( ( 2 - ( var_10 / var_11 ) ) + ( 7 * cos (  sen ( ( var_10 + var_11 ) ) ) ) ) \")\n",
    "#pt_2.print_tree(parseTree_2)\n",
    "pt_2.print_tree(parseTree_2)\n",
    "pt_2.graph.view()\n",
    "pt_2.graph.clear()\n",
    "parseTree_2.printexp()\n",
    "#######################################\n",
    "#pt_3 = ParseTree()\n",
    "#parseTree_3 = pt_3.buildParseTree(\" ( ( ( 2 - ( 10 / 5 ) ) - sen ( ( 20 - 10 ) ) ) + cos ( cos \\\n",
    "#                              ( sen ( 10 ) ) ) )\")\n",
    "#pt_3.print_tree_1(parseTree_3)\n",
    "#pt_3.graph.view()\n",
    "#pt_3.graph.clear()"
   ]
  },
  {
   "cell_type": "code",
   "execution_count": 9,
   "metadata": {},
   "outputs": [
    {
     "name": "stdout",
     "output_type": "stream",
     "text": [
      "( ( 2 - ( var_10 / var_11 ) ) + ( 7 * cos ( ( ( var_10 + var_11 ) sen cos ) ) "
     ]
    }
   ],
   "source": [
    "parseTree_2.printexp()"
   ]
  },
  {
   "cell_type": "code",
   "execution_count": 1062,
   "metadata": {},
   "outputs": [
    {
     "name": "stdout",
     "output_type": "stream",
     "text": [
      "{'par_1': 0, 'par_2': 4, 'par_3': 3}\n",
      "par_1\n",
      "par_2\n",
      "par_3\n"
     ]
    }
   ],
   "source": [
    "list_particles  = {'par_1':[copy.deepcopy(pt_1),copy.deepcopy(parseTree_1)],\n",
    "                   'par_2':[copy.deepcopy(pt_2),copy.deepcopy(parseTree_2)],\n",
    "                   'par_3':[copy.deepcopy(pt_3),copy.deepcopy(parseTree_3)]}\n",
    "\n",
    "\n",
    "lista2 = search_index(list_particles)\n",
    "print(lista2)\n",
    "parses = parses_trees(list_particles, lista2)\n",
    "## faz a mutacao e retorna o root\n",
    "dc = call_pars_index_mutation(copy.deepcopy(parseTree_2), parses['par_1'], lista2['par_2'])\n",
    "dc = rever_tree(dc)\n",
    "## refatora toda a arvore\n",
    "dc2 = refactory_index(copy.deepcopy(dc), 0)\n",
    "dc2 = rever_tree(dc2,0)\n",
    "pt_1.print_tree_index(dc2)\n",
    "pt_1.graph.view()\n",
    "pt_1.graph.clear()"
   ]
  },
  {
   "cell_type": "code",
   "execution_count": 1060,
   "metadata": {},
   "outputs": [],
   "source": [
    "pt_1.print_tree_index(dc2)\n",
    "pt_1.graph.view()\n",
    "pt_1.graph.clear()"
   ]
  },
  {
   "cell_type": "code",
   "execution_count": 56,
   "metadata": {},
   "outputs": [],
   "source": [
    "pt_2.print_tree_index(parseTree_2)\n",
    "pt_2.graph.view()\n",
    "pt_2.graph.clear()"
   ]
  },
  {
   "cell_type": "code",
   "execution_count": 359,
   "metadata": {},
   "outputs": [],
   "source": [
    "pt_3.print_tree(parseTree_3)\n",
    "pt_3.graph.view()\n",
    "pt_3.graph.clear()"
   ]
  },
  {
   "cell_type": "code",
   "execution_count": null,
   "metadata": {},
   "outputs": [],
   "source": [
    "#pt_2.print_tree_1(parseTree_2)\n",
    "#pt_2.print_tree(parseTree_2)\n",
    "pt_2.graph.view()\n",
    "pt_2.graph.clear()"
   ]
  },
  {
   "cell_type": "code",
   "execution_count": null,
   "metadata": {},
   "outputs": [],
   "source": [
    "pt_1 = ParseTree()\n",
    "parseTree_1 = pt_1.buildParseTree(\"( ( 10 + 5 ) * 3 )\")\n",
    "#parseTree_1.postorder()\n",
    "#pt_1.print_tree_1(parseTree_1)\n",
    "#pt_1.graph.view()\n",
    "#pt_1.graph.clear()\n",
    "\n",
    "pt_2 = ParseTree()\n",
    "parseTree_2 = pt_2.buildParseTree(\" ( ( 2 - ( 10 / 5 ) ) + ( 7 * cos (  sen ( ( 10 + 20 ) ) ) ) ) \")\n",
    "#pt_2.print_tree_1(parseTree)\n",
    "#pt_2.graph.view()\n",
    "#pt_2.graph.clear()\n",
    "\n",
    "\n",
    "pt_3 = ParseTree()\n",
    "parseTree_3 = pt_3.buildParseTree(\" ( ( ( 2 - ( 10 / 5 ) ) - sen ( ( 20 - 10 ) ) ) + cos ( cos \\\n",
    "                              ( sen ( 10 ) ) ) )\")\n",
    "#pt_3.print_tree_1(parseTree_3)\n",
    "#pt_3.graph.view()\n",
    "#pt_3.graph.clear()\n",
    "\n",
    "list_particles  = {'par_1':[pt_1,parseTree_1],\n",
    "                   'par_2':[pt_2,parseTree_2],\n",
    "                   'par_3':[pt_3,parseTree_3]}\n",
    "\n",
    "\n",
    "search_index(list_particles)\n",
    "pt, parsetree = list_particles['par_1'] "
   ]
  },
  {
   "cell_type": "code",
   "execution_count": 1064,
   "metadata": {},
   "outputs": [],
   "source": [
    "pt_1 = ParseTree()\n",
    "parseTree_1 = pt_1.buildParseTree(\"( ( 10 + 5 ) * 3 )\")\n",
    "#parseTree_1.postorder()\n",
    "pt_1.print_tree(parseTree_1)\n",
    "pt_1.graph.view()\n",
    "pt_1.graph.clear()"
   ]
  },
  {
   "cell_type": "code",
   "execution_count": 1462,
   "metadata": {},
   "outputs": [],
   "source": []
  },
  {
   "cell_type": "code",
   "execution_count": 1672,
   "metadata": {},
   "outputs": [],
   "source": [
    "#pt_1 = ParseTree()\n",
    "#parseTree_1 = pt_1.buildParseTree(list_dc[2])\n",
    "tree = 2\n",
    "list_dc[tree][0].print_tree(list_dc[tree][1])\n",
    "list_dc[tree][0].graph.view()\n",
    "list_dc[tree][0].graph.clear()"
   ]
  },
  {
   "cell_type": "code",
   "execution_count": 1449,
   "metadata": {},
   "outputs": [],
   "source": [
    "lista2 = search_index(list_particles)"
   ]
  },
  {
   "cell_type": "code",
   "execution_count": 1450,
   "metadata": {},
   "outputs": [
    {
     "data": {
      "text/plain": [
       "(21, 8)"
      ]
     },
     "execution_count": 1450,
     "metadata": {},
     "output_type": "execute_result"
    }
   ],
   "source": [
    "lista2['par_1'], lista2['par_3']"
   ]
  },
  {
   "cell_type": "code",
   "execution_count": 1452,
   "metadata": {},
   "outputs": [
    {
     "name": "stdout",
     "output_type": "stream",
     "text": [
      "par_1\n",
      "par_2\n",
      "par_3\n"
     ]
    }
   ],
   "source": [
    "list_particles  = {'par_1':[copy.deepcopy(list_dc[0][0]),copy.deepcopy(list_dc[0][1])],\n",
    "                   'par_2':[copy.deepcopy(list_dc[1][0]),copy.deepcopy(list_dc[1][1])],\n",
    "                   'par_3':[copy.deepcopy(list_dc[2][0]),copy.deepcopy(list_dc[2][1])]}\n",
    "\n",
    "\n",
    "#lista2 = search_index(list_particles)\n",
    "#print(lista2)\n",
    "parses = parses_trees(list_particles, lista2)\n",
    "## faz a mutacao e retorna o root\n",
    "#dc = call_pars_index_mutation(copy.deepcopy(parseTree_2), parses['par_1'], lista2['par_2'])\n",
    "dc = call_pars_index_mutation(copy.deepcopy(list_dc[0][1]), parses['par_3'], lista2['par_1'])\n",
    "dc = rever_tree(dc)\n",
    "## refatora toda a arvore\n",
    "dc2 = refactory_index(copy.deepcopy(dc), 0)\n",
    "dc2 = rever_tree(dc2,0)\n",
    "list_dc[0][0].print_tree(dc2)\n",
    "list_dc[0][0].graph.view()\n",
    "list_dc[0][0].graph.clear()"
   ]
  },
  {
   "cell_type": "code",
   "execution_count": 1453,
   "metadata": {},
   "outputs": [
    {
     "data": {
      "text/plain": [
       "214.73705182854752"
      ]
     },
     "execution_count": 1453,
     "metadata": {},
     "output_type": "execute_result"
    }
   ],
   "source": [
    "list_dc[0][0].evaluate(dc2)"
   ]
  },
  {
   "cell_type": "code",
   "execution_count": 1448,
   "metadata": {},
   "outputs": [
    {
     "name": "stderr",
     "output_type": "stream",
     "text": [
      "C:\\Users\\reblivi\\Anaconda3\\lib\\site-packages\\ipykernel_launcher.py:1: RuntimeWarning: invalid value encountered in log\n",
      "  \"\"\"Entry point for launching an IPython kernel.\n"
     ]
    },
    {
     "data": {
      "text/plain": [
       "nan"
      ]
     },
     "execution_count": 1448,
     "metadata": {},
     "output_type": "execute_result"
    }
   ],
   "source": [
    "np.log(-10)"
   ]
  },
  {
   "cell_type": "code",
   "execution_count": 1268,
   "metadata": {},
   "outputs": [],
   "source": [
    "'''dc = list()\n",
    "dc.append({2: 'log'})\n",
    "dc.append({2: 'log'})\n",
    "dc.append({1: '( 10 * 20 )'})\n",
    "dc.append({1: '( 10 / 20 )'})\n",
    "dc.append({1: '( 20 - 30 )'})'''\n",
    "#dc.append({'all_1': 'sen'})\n",
    "#dc.append({'all_1': 'tan'})\n",
    "#dc.append({'all_1': 'sen'})\n",
    "#dc.append({'all_1': 'log'})\n",
    "#dc.append({'all': '( 90 - 50 )'})\n",
    "#dc1 = buildParseTree_tree(dc)"
   ]
  },
  {
   "cell_type": "code",
   "execution_count": 1321,
   "metadata": {},
   "outputs": [],
   "source": [
    "pt_1 = ParseTree()\n",
    "#parseTree_1 = pt_1.buildParseTree(\"( sen ( tan ( ( 10 - 20 ) ) ) )\")\n",
    "parseTree_1 = pt_1.buildParseTree(dc1)\n",
    "pt_1.print_tree(parseTree_1)\n",
    "pt_1.graph.view()\n",
    "pt_1.graph.clear()"
   ]
  },
  {
   "cell_type": "code",
   "execution_count": 628,
   "metadata": {},
   "outputs": [
    {
     "data": {
      "text/plain": [
       "-0.6038806745841075"
      ]
     },
     "execution_count": 628,
     "metadata": {},
     "output_type": "execute_result"
    }
   ],
   "source": [
    "pt_1.evaluate(parseTree_1)"
   ]
  },
  {
   "cell_type": "code",
   "execution_count": 694,
   "metadata": {},
   "outputs": [],
   "source": [
    "pt_1 = ParseTree()\n",
    "parseTree_1 = pt_1.buildParseTree(\"( sen ( ( 10 - 20 ) ) - sen ( ( 10 - 20 ) ) ) \")\n",
    "pt_1.print_tree(parseTree_1)\n",
    "pt_1.graph.view()\n",
    "pt_1.graph.clear()"
   ]
  },
  {
   "cell_type": "code",
   "execution_count": 245,
   "metadata": {},
   "outputs": [],
   "source": [
    "#parseTree_1 = pt_1.buildParseTree(\"( ( 10 + 5 ) * 3 )\")\n",
    "\n",
    "#parseTree_3 = pt_3.buildParseTree(\" ( ( ( 2 - ( 10 / 5 ) ) - sen ( ( 20 - 10 ) ) ) + cos ( cos \\\n",
    "#                              ( sen ( 10 ) ) ) )\")"
   ]
  }
 ],
 "metadata": {
  "kernelspec": {
   "display_name": "Python 3",
   "language": "python",
   "name": "python3"
  },
  "language_info": {
   "codemirror_mode": {
    "name": "ipython",
    "version": 3
   },
   "file_extension": ".py",
   "mimetype": "text/x-python",
   "name": "python",
   "nbconvert_exporter": "python",
   "pygments_lexer": "ipython3",
   "version": "3.7.1"
  }
 },
 "nbformat": 4,
 "nbformat_minor": 2
}
